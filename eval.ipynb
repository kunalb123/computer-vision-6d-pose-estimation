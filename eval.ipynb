{
 "cells": [
  {
   "cell_type": "code",
   "execution_count": null,
   "metadata": {},
   "outputs": [],
   "source": []
  },
  {
   "cell_type": "code",
   "execution_count": 51,
   "metadata": {},
   "outputs": [],
   "source": [
    "from model import DeepPose\n",
    "from train import *\n",
    "import matplotlib.pyplot as plt\n",
    "from torch.utils.data import DataLoader\n",
    "import torchvision.transforms as transforms\n",
    "import numpy as np\n",
    "from train import GaussianNoise\n",
    "from cuboid_pnp_solver import CuboidPNPSolver\n",
    "from object_detector import ObjectDetector\n",
    "import json\n",
    "from cuboid import Cuboid3d"
   ]
  },
  {
   "cell_type": "code",
   "execution_count": 38,
   "metadata": {},
   "outputs": [
    {
     "name": "stdout",
     "output_type": "stream",
     "text": [
      "=> Loading checkpoint\n",
      "=> Loaded checkpoint\n"
     ]
    }
   ],
   "source": [
    "checkpoint_path = 'checkpoint.pth'\n",
    "model = DeepPose()\n",
    "load_model(checkpoint_path, model)"
   ]
  },
  {
   "cell_type": "code",
   "execution_count": 41,
   "metadata": {},
   "outputs": [
    {
     "name": "stdout",
     "output_type": "stream",
     "text": [
      "loading annotations into memory...\n",
      "Done (t=0.18s)\n",
      "creating index...\n",
      "index created!\n"
     ]
    }
   ],
   "source": [
    "from dataloader import *\n",
    "\n",
    "root = 'test_data'\n",
    "modelsPath = 'lm_models/models/models_info.json'\n",
    "annFile = 'LOOKHEREannotations.json'\n",
    "transform = transforms.Compose([\n",
    "    transforms.ToTensor(),\n",
    "    GaussianNoise(mean=0.0, std=.5),\n",
    "    transforms.ColorJitter(brightness=0.2, contrast=0.2),\n",
    "])\n",
    "normalize = transforms.Compose([\n",
    "        transforms.ToTensor(),\n",
    "        transforms.Normalize((0.485, 0.456, 0.406), (0.229, 0.224, 0.225), inplace=True),\n",
    "    ])\n",
    "dataset = LineMODCocoDataset(root, annFile, modelsPath, transform=transform)\n",
    "dataloader = DataLoader(dataset, batch_size=32, shuffle=True, num_workers=4)"
   ]
  },
  {
   "cell_type": "code",
   "execution_count": 45,
   "metadata": {},
   "outputs": [],
   "source": [
    "img, target = dataset[0]"
   ]
  },
  {
   "cell_type": "code",
   "execution_count": 49,
   "metadata": {},
   "outputs": [],
   "source": [
    "cam_json_file = 'lm/camera.json'\n",
    "with open(cam_json_file, 'r') as f:\n",
    "    camera_params = json.load(f)\n",
    "\n",
    "cx = camera_params['cx']\n",
    "cy = camera_params['cy']\n",
    "fx = camera_params['fx']\n",
    "fy = camera_params['fy']\n",
    "\n",
    "K = np.array([\n",
    "    [fx, 0, cx],\n",
    "    [0, fy, cy],\n",
    "    [0, 0, 1]\n",
    "])"
   ]
  },
  {
   "cell_type": "code",
   "execution_count": null,
   "metadata": {},
   "outputs": [],
   "source": []
  },
  {
   "cell_type": "code",
   "execution_count": null,
   "metadata": {},
   "outputs": [],
   "source": [
    "solver = CuboidPNPSolver(camera_intrinsic_matrix=K, )\n",
    "img_norm = normalize(dataset[0][0])"
   ]
  },
  {
   "cell_type": "code",
   "execution_count": null,
   "metadata": {},
   "outputs": [],
   "source": []
  },
  {
   "cell_type": "code",
   "execution_count": null,
   "metadata": {},
   "outputs": [],
   "source": []
  },
  {
   "cell_type": "code",
   "execution_count": null,
   "metadata": {},
   "outputs": [],
   "source": []
  },
  {
   "cell_type": "code",
   "execution_count": null,
   "metadata": {},
   "outputs": [],
   "source": []
  },
  {
   "cell_type": "code",
   "execution_count": null,
   "metadata": {},
   "outputs": [],
   "source": [
    "def run_inference(model, dataloader):\n",
    "    model.eval()\n",
    "    all_predictions = []\n",
    "    all_targets = []\n",
    "    \n",
    "    with torch.no_grad():\n",
    "        for img, target in dataloader:\n",
    "            img = img.to(device)\n",
    "            output = model(img)\n",
    "            \n",
    "\n",
    "            # Assuming output contains the predicted pose\n",
    "            predicted_pose = pnp(output)\n",
    "            ground_truth_pose = target['pose']\n",
    "            \n",
    "            all_predictions.append(predicted_pose.cpu().numpy())\n",
    "            all_targets.append(ground_truth_pose.cpu().numpy())\n",
    "            \n",
    "    return all_predictions, all_targets\n"
   ]
  },
  {
   "cell_type": "code",
   "execution_count": null,
   "metadata": {},
   "outputs": [],
   "source": [
    "import numpy as np\n",
    "\n",
    "def compute_add(vertices, pred_pose, gt_pose):\n",
    "    # Transform vertices with ground truth pose\n",
    "    vertices_gt = (gt_pose[:3, :3] @ vertices.T + gt_pose[:3, 3:4]).T\n",
    "    \n",
    "    # Transform vertices with predicted pose\n",
    "    vertices_pred = (pred_pose[:3, :3] @ vertices.T + pred_pose[:3, 3:4]).T\n",
    "    \n",
    "    # Compute Euclidean distances\n",
    "    distances = np.linalg.norm(vertices_gt - vertices_pred, axis=1)\n",
    "    \n",
    "    # Return average distance\n",
    "    return np.mean(distances)\n"
   ]
  },
  {
   "cell_type": "code",
   "execution_count": null,
   "metadata": {},
   "outputs": [],
   "source": [
    "# Assuming `model` is your trained model and `vertices` contains 3D points of the object model\n",
    "device = torch.device('mps')\n",
    "model.to(device)\n",
    "\n",
    "predictions, targets = run_inference(model, dataloader)\n",
    "\n",
    "add_scores = []\n",
    "for pred_pose, gt_pose, target in zip(predictions, targets, dataset):\n",
    "    vertices = dataset.create_3D_vertices(target['category_id'])\n",
    "    add = compute_add(vertices, pred_pose, gt_pose)\n",
    "    add_scores.append(add)\n",
    "\n",
    "# Compute average ADD score\n",
    "average_add = np.mean(add_scores)\n",
    "print(f'Average ADD: {average_add}')\n"
   ]
  },
  {
   "cell_type": "code",
   "execution_count": null,
   "metadata": {},
   "outputs": [],
   "source": []
  },
  {
   "cell_type": "code",
   "execution_count": null,
   "metadata": {},
   "outputs": [],
   "source": [
    "img = dataset[0][0].numpy()\n",
    "img"
   ]
  },
  {
   "cell_type": "code",
   "execution_count": null,
   "metadata": {},
   "outputs": [],
   "source": [
    "# plt.imshow(dataset[0][0])\n",
    "plt.imshow(img.transpose(1, 2, 0))"
   ]
  },
  {
   "cell_type": "code",
   "execution_count": null,
   "metadata": {},
   "outputs": [],
   "source": [
    "import numpy as np\n",
    "\n",
    "images, targets = next(iter(dataloader))\n",
    "first_image = images[0]\n",
    "first_target = targets[0]\n",
    "\n"
   ]
  },
  {
   "cell_type": "code",
   "execution_count": null,
   "metadata": {},
   "outputs": [],
   "source": [
    "\n",
    "\n",
    "numpy_first_image = first_image.numpy()\n",
    "plt.imshow(numpy_first_image)"
   ]
  },
  {
   "cell_type": "code",
   "execution_count": null,
   "metadata": {},
   "outputs": [],
   "source": [
    "plt.imshow(first_target[0])"
   ]
  },
  {
   "cell_type": "code",
   "execution_count": null,
   "metadata": {},
   "outputs": [],
   "source": [
    "# evaluate model on the first image/target pair\n",
    "\n",
    "model.eval()\n",
    "with torch.no_grad():\n",
    "    pred_belief_maps, pred_vector_fields = model(first_image.unsqueeze(0))"
   ]
  },
  {
   "cell_type": "code",
   "execution_count": null,
   "metadata": {},
   "outputs": [],
   "source": [
    "batch_size = pred_belief_maps.shape[0]\n",
    "num_belief_maps = pred_belief_maps.shape[2]\n",
    "\n",
    "# Plot each belief map in the batch\n",
    "for i in range(batch_size):\n",
    "    for j in range(num_belief_maps):\n",
    "        belief_map = pred_belief_maps[i, 0, j].cpu().numpy()\n",
    "\n",
    "        plt.figure(figsize=(6, 5))\n",
    "        plt.imshow(belief_map, cmap='hot')\n",
    "        plt.colorbar()\n",
    "        plt.title(f'Belief Map {j+1} (Batch {i+1})')\n",
    "        plt.show()"
   ]
  },
  {
   "cell_type": "code",
   "execution_count": null,
   "metadata": {},
   "outputs": [],
   "source": [
    "pred_vector_fields.shape"
   ]
  },
  {
   "cell_type": "code",
   "execution_count": null,
   "metadata": {},
   "outputs": [],
   "source": []
  },
  {
   "cell_type": "code",
   "execution_count": null,
   "metadata": {},
   "outputs": [],
   "source": []
  }
 ],
 "metadata": {
  "kernelspec": {
   "display_name": "Python 3",
   "language": "python",
   "name": "python3"
  },
  "language_info": {
   "codemirror_mode": {
    "name": "ipython",
    "version": 3
   },
   "file_extension": ".py",
   "mimetype": "text/x-python",
   "name": "python",
   "nbconvert_exporter": "python",
   "pygments_lexer": "ipython3",
   "version": "3.9.6"
  }
 },
 "nbformat": 4,
 "nbformat_minor": 2
}
