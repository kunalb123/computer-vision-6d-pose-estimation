{
 "cells": [
  {
   "cell_type": "code",
   "execution_count": 5,
   "metadata": {},
   "outputs": [],
   "source": [
    "from dataloader import LineMODCocoDataset\n",
    "import torch\n",
    "import numpy as np"
   ]
  },
  {
   "cell_type": "code",
   "execution_count": 4,
   "metadata": {},
   "outputs": [
    {
     "name": "stdout",
     "output_type": "stream",
     "text": [
      "loading annotations into memory...\n",
      "Done (t=0.19s)\n",
      "creating index...\n",
      "index created!\n",
      "{'1': {'diameter': 102.099, 'min_x': -37.9343, 'min_y': -38.7996, 'min_z': -45.8845, 'size_x': 75.8686, 'size_y': 77.5992, 'size_z': 91.769}, '2': {'diameter': 247.506, 'min_x': -107.835, 'min_y': -60.9279, 'min_z': -109.705, 'size_x': 215.67, 'size_y': 121.856, 'size_z': 219.41}, '3': {'diameter': 167.355, 'min_x': -83.2162, 'min_y': -82.6591, 'min_z': -37.2364, 'size_x': 166.432, 'size_y': 165.318, 'size_z': 74.4728, 'symmetries_continuous': [{'axis': [0, 0, 1], 'offset': [0, 0, 0]}]}, '4': {'diameter': 172.492, 'min_x': -68.3297, 'min_y': -71.5151, 'min_z': -50.2485, 'size_x': 136.659, 'size_y': 143.03, 'size_z': 100.497}, '5': {'diameter': 201.404, 'min_x': -50.3958, 'min_y': -90.8979, 'min_z': -96.867, 'size_x': 100.792, 'size_y': 181.796, 'size_z': 193.734}, '6': {'diameter': 154.546, 'min_x': -33.5054, 'min_y': -63.8165, 'min_z': -58.7283, 'size_x': 67.0107, 'size_y': 127.633, 'size_z': 117.457}, '7': {'diameter': 124.264, 'min_x': -58.7899, 'min_y': -45.7556, 'min_z': -47.3112, 'size_x': 117.58, 'size_y': 91.5112, 'size_z': 94.6224}, '8': {'diameter': 261.472, 'min_x': -114.738, 'min_y': -37.7357, 'min_z': -104.001, 'size_x': 229.476, 'size_y': 75.4714, 'size_z': 208.002}, '9': {'diameter': 108.999, 'min_x': -52.2146, 'min_y': -38.7038, 'min_z': -42.8485, 'size_x': 104.429, 'size_y': 77.4076, 'size_z': 85.697}, '10': {'diameter': 164.628, 'min_x': -75.0923, 'min_y': -53.5375, 'min_z': -34.6207, 'size_x': 150.185, 'size_y': 107.075, 'size_z': 69.2414, 'symmetries_discrete': [[-0.999964, -0.00333777, -0.0077452, 0.232611, 0.00321462, -0.999869, 0.0158593, 0.694388, -0.00779712, 0.0158338, 0.999844, -0.0792063, 0, 0, 0, 1]]}, '11': {'diameter': 175.889, 'min_x': -18.3605, 'min_y': -38.933, 'min_z': -86.4079, 'size_x': 36.7211, 'size_y': 77.866, 'size_z': 172.816, 'symmetries_discrete': [[-0.999633, 0.026679, 0.00479336, -0.262139, -0.0266744, -0.999644, 0.00100504, -0.197966, 0.00481847, 0.000876815, 0.999988, 0.0321652, 0, 0, 0, 1]]}, '12': {'diameter': 145.543, 'min_x': -50.4439, 'min_y': -54.2485, 'min_z': -45.4, 'size_x': 100.888, 'size_y': 108.497, 'size_z': 90.8}, '13': {'diameter': 278.078, 'min_x': -129.113, 'min_y': -59.241, 'min_z': -70.5662, 'size_x': 258.226, 'size_y': 118.482, 'size_z': 141.132}, '14': {'diameter': 282.601, 'min_x': -101.573, 'min_y': -58.8763, 'min_z': -106.558, 'size_x': 203.146, 'size_y': 117.753, 'size_z': 213.116}, '15': {'diameter': 212.358, 'min_x': -46.9591, 'min_y': -73.7167, 'min_z': -92.3737, 'size_x': 93.9181, 'size_y': 147.433, 'size_z': 184.747}}\n"
     ]
    }
   ],
   "source": [
    "root = 'test_data_subset'\n",
    "modelsPath = 'lm_models/models/models_info.json'\n",
    "annFile = 'LOOKHEREannotations.json'\n",
    "\n",
    "\n",
    "dataset = LineMODCocoDataset(root, annFile, modelsPath)"
   ]
  },
  {
   "cell_type": "code",
   "execution_count": 13,
   "metadata": {},
   "outputs": [
    {
     "name": "stdout",
     "output_type": "stream",
     "text": [
      "v3\n"
     ]
    }
   ],
   "source": [
    "print(f'v{eval(\"3\")}')"
   ]
  },
  {
   "cell_type": "code",
   "execution_count": 15,
   "metadata": {},
   "outputs": [
    {
     "data": {
      "text/plain": [
       "[0, 1, 2]"
      ]
     },
     "execution_count": 15,
     "metadata": {},
     "output_type": "execute_result"
    }
   ],
   "source": [
    "[i for i in np.arange(3)]"
   ]
  },
  {
   "cell_type": "code",
   "execution_count": 19,
   "metadata": {},
   "outputs": [
    {
     "data": {
      "text/plain": [
       "(array([[0, 1, 2],\n",
       "        [3, 4, 5],\n",
       "        [6, 7, 8]]),\n",
       " array([[0.        , 0.14285714, 0.25      ],\n",
       "        [0.5       , 0.57142857, 0.625     ]]))"
      ]
     },
     "execution_count": 19,
     "metadata": {},
     "output_type": "execute_result"
    }
   ],
   "source": [
    "x = np.arange(9).reshape(3, 3)\n",
    "x, x[:2, :] / x[2, :]"
   ]
  },
  {
   "cell_type": "code",
   "execution_count": 3,
   "metadata": {},
   "outputs": [
    {
     "data": {
      "text/plain": [
       "18273"
      ]
     },
     "execution_count": 3,
     "metadata": {},
     "output_type": "execute_result"
    }
   ],
   "source": [
    "len(dataset)"
   ]
  },
  {
   "cell_type": "code",
   "execution_count": 4,
   "metadata": {},
   "outputs": [
    {
     "name": "stdout",
     "output_type": "stream",
     "text": [
      "{'id': 1, 'image_id': 1, 'category_id': 1, 'bbox': [244, 150, 43, 57], 'area': 2451, 'iscrowd': 0, 'cam_R_m2c': [0.0963063, 0.99404401, 0.0510079, 0.57332098, -0.0135081, -0.81922001, -0.81365103, 0.10814, -0.57120699], 'cam_t_m2c': [-105.3577515, -117.52119142, 1014.8770132], 'cam_K': [572.4114, 0.0, 325.2611, 0.0, 573.57043, 242.04899, 0.0, 0.0, 1.0]}\n"
     ]
    },
    {
     "data": {
      "text/plain": [
       "tensor([[[0., 0., 0.,  ..., 0., 0., 0.],\n",
       "         [0., 0., 0.,  ..., 0., 0., 0.],\n",
       "         [0., 0., 0.,  ..., 0., 0., 0.],\n",
       "         ...,\n",
       "         [0., 0., 0.,  ..., 0., 0., 0.],\n",
       "         [0., 0., 0.,  ..., 0., 0., 0.],\n",
       "         [0., 0., 0.,  ..., 0., 0., 0.]],\n",
       "\n",
       "        [[0., 0., 0.,  ..., 0., 0., 0.],\n",
       "         [0., 0., 0.,  ..., 0., 0., 0.],\n",
       "         [0., 0., 0.,  ..., 0., 0., 0.],\n",
       "         ...,\n",
       "         [0., 0., 0.,  ..., 0., 0., 0.],\n",
       "         [0., 0., 0.,  ..., 0., 0., 0.],\n",
       "         [0., 0., 0.,  ..., 0., 0., 0.]],\n",
       "\n",
       "        [[0., 0., 0.,  ..., 0., 0., 0.],\n",
       "         [0., 0., 0.,  ..., 0., 0., 0.],\n",
       "         [0., 0., 0.,  ..., 0., 0., 0.],\n",
       "         ...,\n",
       "         [0., 0., 0.,  ..., 0., 0., 0.],\n",
       "         [0., 0., 0.,  ..., 0., 0., 0.],\n",
       "         [0., 0., 0.,  ..., 0., 0., 0.]],\n",
       "\n",
       "        ...,\n",
       "\n",
       "        [[0., 0., 0.,  ..., 0., 0., 0.],\n",
       "         [0., 0., 0.,  ..., 0., 0., 0.],\n",
       "         [0., 0., 0.,  ..., 0., 0., 0.],\n",
       "         ...,\n",
       "         [0., 0., 0.,  ..., 0., 0., 0.],\n",
       "         [0., 0., 0.,  ..., 0., 0., 0.],\n",
       "         [0., 0., 0.,  ..., 0., 0., 0.]],\n",
       "\n",
       "        [[0., 0., 0.,  ..., 0., 0., 0.],\n",
       "         [0., 0., 0.,  ..., 0., 0., 0.],\n",
       "         [0., 0., 0.,  ..., 0., 0., 0.],\n",
       "         ...,\n",
       "         [0., 0., 0.,  ..., 0., 0., 0.],\n",
       "         [0., 0., 0.,  ..., 0., 0., 0.],\n",
       "         [0., 0., 0.,  ..., 0., 0., 0.]],\n",
       "\n",
       "        [[0., 0., 0.,  ..., 0., 0., 0.],\n",
       "         [0., 0., 0.,  ..., 0., 0., 0.],\n",
       "         [0., 0., 0.,  ..., 0., 0., 0.],\n",
       "         ...,\n",
       "         [0., 0., 0.,  ..., 0., 0., 0.],\n",
       "         [0., 0., 0.,  ..., 0., 0., 0.],\n",
       "         [0., 0., 0.,  ..., 0., 0., 0.]]])"
      ]
     },
     "execution_count": 4,
     "metadata": {},
     "output_type": "execute_result"
    }
   ],
   "source": [
    "dataset[0][1]"
   ]
  },
  {
   "cell_type": "code",
   "execution_count": null,
   "metadata": {},
   "outputs": [],
   "source": []
  },
  {
   "cell_type": "code",
   "execution_count": null,
   "metadata": {},
   "outputs": [],
   "source": []
  }
 ],
 "metadata": {
  "kernelspec": {
   "display_name": "Python 3",
   "language": "python",
   "name": "python3"
  },
  "language_info": {
   "codemirror_mode": {
    "name": "ipython",
    "version": 3
   },
   "file_extension": ".py",
   "mimetype": "text/x-python",
   "name": "python",
   "nbconvert_exporter": "python",
   "pygments_lexer": "ipython3",
   "version": "3.9.19"
  }
 },
 "nbformat": 4,
 "nbformat_minor": 2
}
